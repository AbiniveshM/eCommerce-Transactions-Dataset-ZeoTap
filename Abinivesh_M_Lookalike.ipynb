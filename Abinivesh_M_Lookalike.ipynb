{
 "cells": [
  {
   "cell_type": "code",
   "execution_count": 20,
   "metadata": {},
   "outputs": [
    {
     "data": {
      "text/markdown": [
       "\n",
       "# Table of Contents\n",
       "1. [Introduction](#Introduction)\n",
       "2. [Deliverables](#Deliverables)\n",
       "    * [Data Loading and Preprocessing](#Data-Loading-and-Preprocessing)\n",
       "    * [Feature Engineering](#Feature-Engineering)\n",
       "    * [Scaling and Normalization](#Scaling-and-Normalization)\n",
       "    * [Cosine Similarity Calculation](#Cosine-Similarity-Calculation)\n",
       "    * [Lookalike Recommendation](#Lookalike-Recommendation)\n",
       "    * [Saving CSV](#Saving-CSV)\n",
       "    * [Display Top 3 Lookalikes for the First 20 Customers](#Display-Top-3-Lookalikes-for-the-First-20-Customers)\n",
       "3. [Evaluation Criteria](#Evaluation-Criteria)\n",
       "    * [Cosine Similarity Distribution](#Cosine-Similarity-Distribution)\n",
       "    * [Average Cosine Similarity](#Average-Cosine-Similarity)\n",
       "    * [Top-20 Recommendations Quality](#Top-20-Recommendations-Quality)\n",
       "    * [Classification Report](#Classification-Report)\n",
       "    * [Jaccard Similarity](#Jaccard-Similarity)\n"
      ],
      "text/plain": [
       "<IPython.core.display.Markdown object>"
      ]
     },
     "metadata": {},
     "output_type": "display_data"
    }
   ],
   "source": [
    "# Create a table of contents with links to respective sections\n",
    "from IPython.display import display, Markdown\n",
    "\n",
    "toc = \"\"\"\n",
    "# Table of Contents\n",
    "1. [Introduction](#Introduction)\n",
    "2. [Deliverables](#Deliverables)\n",
    "    * [Data Loading and Preprocessing](#Data-Loading-and-Preprocessing)\n",
    "    * [Feature Engineering](#Feature-Engineering)\n",
    "    * [Scaling and Normalization](#Scaling-and-Normalization)\n",
    "    * [Cosine Similarity Calculation](#Cosine-Similarity-Calculation)\n",
    "    * [Lookalike Recommendation](#Lookalike-Recommendation)\n",
    "    * [Saving CSV](#Saving-CSV)\n",
    "    * [Display Top 3 Lookalikes for the First 20 Customers](#Display-Top-3-Lookalikes-for-the-First-20-Customers)\n",
    "3. [Evaluation Criteria](#Evaluation-Criteria)\n",
    "    * [Cosine Similarity Distribution](#Cosine-Similarity-Distribution)\n",
    "    * [Average Cosine Similarity](#Average-Cosine-Similarity)\n",
    "    * [Top-20 Recommendations Quality](#Top-20-Recommendations-Quality)\n",
    "    * [Classification Report](#Classification-Report)\n",
    "    * [Jaccard Similarity](#Jaccard-Similarity)\n",
    "\"\"\"\n",
    "\n",
    "display(Markdown(toc))\n",
    "\n"
   ]
  },
  {
   "cell_type": "markdown",
   "metadata": {},
   "source": [
    "## Introduction\n",
    "    The goal of this project is to create a Lookalike Model that finds customers similar to a given customer based on their profile and transaction history. The idea is to recommend 3 customers who have similar behaviors, such as how much they spend, how often they buy, and what products they buy. The model uses data from customers, transactions, and products to understand customer behavior.\n"
   ]
  },
  {
   "cell_type": "markdown",
   "metadata": {},
   "source": [
    "## Deliverables"
   ]
  },
  {
   "cell_type": "markdown",
   "metadata": {},
   "source": [
    "### Importing Packages"
   ]
  },
  {
   "cell_type": "code",
   "execution_count": 21,
   "metadata": {},
   "outputs": [],
   "source": [
    "import pandas as pd\n",
    "import numpy as np\n",
    "from sklearn.metrics.pairwise import cosine_similarity\n",
    "from sklearn.preprocessing import StandardScaler\n",
    "from sklearn.preprocessing import LabelEncoder"
   ]
  },
  {
   "cell_type": "markdown",
   "metadata": {},
   "source": [
    "### Data Loading and Preprocessing"
   ]
  },
  {
   "cell_type": "code",
   "execution_count": 22,
   "metadata": {},
   "outputs": [],
   "source": [
    "customers = pd.read_csv('Dataset/Customers.csv')  \n",
    "transactions = pd.read_csv('Dataset/Transactions.csv') \n",
    "products = pd.read_csv('Dataset/Products.csv') \n"
   ]
  },
  {
   "cell_type": "code",
   "execution_count": 23,
   "metadata": {},
   "outputs": [],
   "source": [
    "# Merging the data\n",
    "customer_data = customers.merge(transactions, on='CustomerID', how='inner')\n",
    "customer_data = customer_data.merge(products, on='ProductID', how='inner')\n",
    "\n",
    "# Removing Duplicated columns\n",
    "customer_data.rename(columns={\"Price_y\": \"Price\"}, inplace=True)\n",
    "customer_data.drop(columns=[\"Price_x\"], inplace=True)\n"
   ]
  },
  {
   "cell_type": "markdown",
   "metadata": {},
   "source": [
    "### Feature Engineering"
   ]
  },
  {
   "cell_type": "code",
   "execution_count": 24,
   "metadata": {},
   "outputs": [],
   "source": [
    "customer_features = customer_data.groupby('CustomerID').agg({\n",
    "    'TotalValue': 'sum',        \n",
    "    'Quantity': 'sum',           \n",
    "    'Price': 'mean',             \n",
    "    'ProductID': lambda x: len(set(x)), \n",
    "}).reset_index()"
   ]
  },
  {
   "cell_type": "markdown",
   "metadata": {},
   "source": [
    "### Scaling and Normalization"
   ]
  },
  {
   "cell_type": "code",
   "execution_count": 25,
   "metadata": {},
   "outputs": [],
   "source": [
    "scaler = StandardScaler()\n",
    "numeric_features = customer_features[['TotalValue', 'Quantity', 'Price']]\n",
    "scaled_features = scaler.fit_transform(numeric_features)"
   ]
  },
  {
   "cell_type": "markdown",
   "metadata": {},
   "source": [
    "### Cosine Similarity Calc"
   ]
  },
  {
   "cell_type": "code",
   "execution_count": 26,
   "metadata": {},
   "outputs": [],
   "source": [
    "similarity_matrix = cosine_similarity(scaled_features)"
   ]
  },
  {
   "cell_type": "markdown",
   "metadata": {},
   "source": [
    "### Lookalike Recommendations"
   ]
  },
  {
   "cell_type": "code",
   "execution_count": 27,
   "metadata": {},
   "outputs": [],
   "source": [
    "\n",
    "lookalike_results = {}\n",
    "for idx, customer_id in enumerate(customer_features['CustomerID']):\n",
    "    # Get similarity scores \n",
    "    scores = list(enumerate(similarity_matrix[idx]))\n",
    "    # Sort customers by similarity score (descending order) and pick top 3 similar ones\n",
    "    scores = sorted(scores, key=lambda x: x[1], reverse=True)[1:4]\n",
    "    # Store the lookalike customers and their similarity scores\n",
    "    lookalike_results[customer_id] = [(customer_features['CustomerID'][s[0]], s[1]) for s in scores]\n"
   ]
  },
  {
   "cell_type": "code",
   "execution_count": 28,
   "metadata": {},
   "outputs": [],
   "source": [
    "# Only include top 20 customers (C0001 to C0020)\n",
    "lookalike_results_filtered = {cust: lookalike_results[cust] \n",
    "                              for cust in customer_features['CustomerID'][:20]}\n"
   ]
  },
  {
   "cell_type": "markdown",
   "metadata": {},
   "source": [
    "### Save the results"
   ]
  },
  {
   "cell_type": "code",
   "execution_count": 29,
   "metadata": {},
   "outputs": [],
   "source": [
    "lookalike_df = pd.DataFrame([\n",
    "    {'CustomerID': cust, 'Lookalikes': lookalikes}\n",
    "    for cust, lookalikes in lookalike_results_filtered.items()\n",
    "])"
   ]
  },
  {
   "cell_type": "code",
   "execution_count": 30,
   "metadata": {},
   "outputs": [],
   "source": [
    "# Write to a CSV file\n",
    "lookalike_df.to_csv('Abinivesh_M_Lookalike.csv', index=False)"
   ]
  },
  {
   "cell_type": "markdown",
   "metadata": {},
   "source": [
    "### Display Top 3 Lookalikes for the First 20 Customers"
   ]
  },
  {
   "cell_type": "code",
   "execution_count": 31,
   "metadata": {},
   "outputs": [
    {
     "name": "stdout",
     "output_type": "stream",
     "text": [
      "Top 3 Lookalikes for Customers C0001 - C0020:\n",
      "\n",
      "Customer ID: C0001\n",
      "  - Lookalike ID: C0103, Similarity Score: 0.9976\n",
      "  - Lookalike ID: C0092, Similarity Score: 0.9969\n",
      "  - Lookalike ID: C0135, Similarity Score: 0.9927\n",
      "\n",
      "Customer ID: C0002\n",
      "  - Lookalike ID: C0029, Similarity Score: 0.9999\n",
      "  - Lookalike ID: C0077, Similarity Score: 0.9961\n",
      "  - Lookalike ID: C0157, Similarity Score: 0.9955\n",
      "\n",
      "Customer ID: C0003\n",
      "  - Lookalike ID: C0111, Similarity Score: 0.9985\n",
      "  - Lookalike ID: C0190, Similarity Score: 0.9967\n",
      "  - Lookalike ID: C0038, Similarity Score: 0.9901\n",
      "\n",
      "Customer ID: C0004\n",
      "  - Lookalike ID: C0165, Similarity Score: 0.9984\n",
      "  - Lookalike ID: C0162, Similarity Score: 0.9981\n",
      "  - Lookalike ID: C0075, Similarity Score: 0.9969\n",
      "\n",
      "Customer ID: C0005\n",
      "  - Lookalike ID: C0167, Similarity Score: 1.0000\n",
      "  - Lookalike ID: C0020, Similarity Score: 0.9997\n",
      "  - Lookalike ID: C0128, Similarity Score: 0.9988\n",
      "\n",
      "Customer ID: C0006\n",
      "  - Lookalike ID: C0168, Similarity Score: 0.9976\n",
      "  - Lookalike ID: C0196, Similarity Score: 0.9950\n",
      "  - Lookalike ID: C0187, Similarity Score: 0.9948\n",
      "\n",
      "Customer ID: C0007\n",
      "  - Lookalike ID: C0125, Similarity Score: 0.9998\n",
      "  - Lookalike ID: C0089, Similarity Score: 0.9983\n",
      "  - Lookalike ID: C0085, Similarity Score: 0.9960\n",
      "\n",
      "Customer ID: C0008\n",
      "  - Lookalike ID: C0084, Similarity Score: 0.9961\n",
      "  - Lookalike ID: C0113, Similarity Score: 0.9958\n",
      "  - Lookalike ID: C0017, Similarity Score: 0.9932\n",
      "\n",
      "Customer ID: C0009\n",
      "  - Lookalike ID: C0130, Similarity Score: 1.0000\n",
      "  - Lookalike ID: C0128, Similarity Score: 0.9986\n",
      "  - Lookalike ID: C0192, Similarity Score: 0.9986\n",
      "\n",
      "Customer ID: C0010\n",
      "  - Lookalike ID: C0176, Similarity Score: 0.9995\n",
      "  - Lookalike ID: C0055, Similarity Score: 0.9938\n",
      "  - Lookalike ID: C0174, Similarity Score: 0.9927\n",
      "\n",
      "Customer ID: C0011\n",
      "  - Lookalike ID: C0023, Similarity Score: 0.9991\n",
      "  - Lookalike ID: C0139, Similarity Score: 0.9865\n",
      "  - Lookalike ID: C0100, Similarity Score: 0.9850\n",
      "\n",
      "Customer ID: C0012\n",
      "  - Lookalike ID: C0101, Similarity Score: 1.0000\n",
      "  - Lookalike ID: C0093, Similarity Score: 0.9996\n",
      "  - Lookalike ID: C0153, Similarity Score: 0.9995\n",
      "\n",
      "Customer ID: C0013\n",
      "  - Lookalike ID: C0021, Similarity Score: 0.9997\n",
      "  - Lookalike ID: C0141, Similarity Score: 0.9977\n",
      "  - Lookalike ID: C0059, Similarity Score: 0.9975\n",
      "\n",
      "Customer ID: C0014\n",
      "  - Lookalike ID: C0097, Similarity Score: 0.9987\n",
      "  - Lookalike ID: C0043, Similarity Score: 0.9970\n",
      "  - Lookalike ID: C0032, Similarity Score: 0.9963\n",
      "\n",
      "Customer ID: C0015\n",
      "  - Lookalike ID: C0058, Similarity Score: 0.9989\n",
      "  - Lookalike ID: C0186, Similarity Score: 0.9943\n",
      "  - Lookalike ID: C0131, Similarity Score: 0.9925\n",
      "\n",
      "Customer ID: C0016\n",
      "  - Lookalike ID: C0040, Similarity Score: 0.9997\n",
      "  - Lookalike ID: C0107, Similarity Score: 0.9989\n",
      "  - Lookalike ID: C0066, Similarity Score: 0.9980\n",
      "\n",
      "Customer ID: C0017\n",
      "  - Lookalike ID: C0113, Similarity Score: 0.9997\n",
      "  - Lookalike ID: C0084, Similarity Score: 0.9948\n",
      "  - Lookalike ID: C0008, Similarity Score: 0.9932\n",
      "\n",
      "Customer ID: C0018\n",
      "  - Lookalike ID: C0041, Similarity Score: 0.9939\n",
      "  - Lookalike ID: C0068, Similarity Score: 0.9929\n",
      "  - Lookalike ID: C0004, Similarity Score: 0.9900\n",
      "\n",
      "Customer ID: C0019\n",
      "  - Lookalike ID: C0166, Similarity Score: 0.9973\n",
      "  - Lookalike ID: C0031, Similarity Score: 0.9942\n",
      "  - Lookalike ID: C0088, Similarity Score: 0.9884\n",
      "\n",
      "Customer ID: C0020\n",
      "  - Lookalike ID: C0005, Similarity Score: 0.9997\n",
      "  - Lookalike ID: C0128, Similarity Score: 0.9996\n",
      "  - Lookalike ID: C0167, Similarity Score: 0.9995\n"
     ]
    }
   ],
   "source": [
    "print(\"Top 3 Lookalikes for Customers C0001 - C0020:\")\n",
    "for customer_id in lookalike_results_filtered:\n",
    "    print(f\"\\nCustomer ID: {customer_id}\")\n",
    "    for lookalike, score in lookalike_results_filtered[customer_id]:\n",
    "        print(f\"  - Lookalike ID: {lookalike}, Similarity Score: {score:.4f}\")\n"
   ]
  },
  {
   "cell_type": "markdown",
   "metadata": {},
   "source": [
    "## Evaluation Criterias"
   ]
  },
  {
   "cell_type": "code",
   "execution_count": 32,
   "metadata": {},
   "outputs": [],
   "source": [
    "import matplotlib.pyplot as plt"
   ]
  },
  {
   "cell_type": "markdown",
   "metadata": {},
   "source": [
    "### Cosine Similarity Distribution"
   ]
  },
  {
   "cell_type": "code",
   "execution_count": 33,
   "metadata": {},
   "outputs": [
    {
     "data": {
      "image/png": "[encoded data removed]",
      "text/plain": [
       "<Figure size 1000x600 with 1 Axes>"
      ]
     },
     "metadata": {},
     "output_type": "display_data"
    }
   ],
   "source": [
    "plt.figure(figsize=(10, 6))\n",
    "similarity_scores = [score for customer_scores in lookalike_results.values() for _, score in customer_scores]\n",
    "plt.hist(similarity_scores, bins=30, color='skyblue', edgecolor='black')\n",
    "plt.title('Distribution of Cosine Similarity Scores', fontsize=14)\n",
    "plt.xlabel('Cosine Similarity', fontsize=12)\n",
    "plt.ylabel('Frequency', fontsize=12)\n",
    "plt.show()\n"
   ]
  },
  {
   "cell_type": "markdown",
   "metadata": {},
   "source": [
    "### Average Cosine Similarity"
   ]
  },
  {
   "cell_type": "code",
   "execution_count": 34,
   "metadata": {},
   "outputs": [
    {
     "name": "stdout",
     "output_type": "stream",
     "text": [
      "Average Cosine Similarity Score: 0.9912\n"
     ]
    }
   ],
   "source": [
    "avg_similarity = np.mean(similarity_scores)\n",
    "print(f'Average Cosine Similarity Score: {avg_similarity:.4f}')\n"
   ]
  },
  {
   "cell_type": "markdown",
   "metadata": {},
   "source": [
    "### Top-20 Recommendations Quality"
   ]
  },
  {
   "cell_type": "code",
   "execution_count": 35,
   "metadata": {},
   "outputs": [
    {
     "data": {
      "image/png": "[encoded data removed]",
      "text/plain": [
       "<Figure size 1000x600 with 1 Axes>"
      ]
     },
     "metadata": {},
     "output_type": "display_data"
    }
   ],
   "source": [
    "top_k_customers = customer_features['CustomerID'].iloc[:20]\n",
    "top_k_similarity_scores = [lookalike_results[cust][0][1] for cust in top_k_customers]\n",
    "plt.figure(figsize=(10, 6))\n",
    "plt.bar(top_k_customers.astype(str), top_k_similarity_scores, color='lightcoral')\n",
    "plt.title('Top-K Customers with Their Highest Similarity Scores', fontsize=14)\n",
    "plt.xlabel('CustomerID', fontsize=12)\n",
    "plt.ylabel('Similarity Score', fontsize=12)\n",
    "plt.xticks(rotation=45)\n",
    "plt.show()"
   ]
  },
  {
   "cell_type": "code",
   "execution_count": 36,
   "metadata": {},
   "outputs": [],
   "source": [
    "from sklearn.metrics import classification_report\n",
    "import random"
   ]
  },
  {
   "cell_type": "markdown",
   "metadata": {},
   "source": [
    "### Classification Report "
   ]
  },
  {
   "cell_type": "code",
   "execution_count": 37,
   "metadata": {},
   "outputs": [
    {
     "name": "stdout",
     "output_type": "stream",
     "text": [
      "Classification Report:\n",
      "\n",
      "               precision    recall  f1-score   support\n",
      "\n",
      "Not Lookalike       0.00      0.00      0.00        31\n",
      "    Lookalike       0.48      1.00      0.65        29\n",
      "\n",
      "     accuracy                           0.48        60\n",
      "    macro avg       0.24      0.50      0.33        60\n",
      " weighted avg       0.23      0.48      0.31        60\n",
      "\n"
     ]
    },
    {
     "name": "stderr",
     "output_type": "stream",
     "text": [
      "c:\\Users\\abini\\AppData\\Local\\Programs\\Python\\Python311\\Lib\\site-packages\\sklearn\\metrics\\_classification.py:1531: UndefinedMetricWarning: Precision is ill-defined and being set to 0.0 in labels with no predicted samples. Use `zero_division` parameter to control this behavior.\n",
      "  _warn_prf(average, modifier, f\"{metric.capitalize()} is\", len(result))\n",
      "c:\\Users\\abini\\AppData\\Local\\Programs\\Python\\Python311\\Lib\\site-packages\\sklearn\\metrics\\_classification.py:1531: UndefinedMetricWarning: Precision is ill-defined and being set to 0.0 in labels with no predicted samples. Use `zero_division` parameter to control this behavior.\n",
      "  _warn_prf(average, modifier, f\"{metric.capitalize()} is\", len(result))\n",
      "c:\\Users\\abini\\AppData\\Local\\Programs\\Python\\Python311\\Lib\\site-packages\\sklearn\\metrics\\_classification.py:1531: UndefinedMetricWarning: Precision is ill-defined and being set to 0.0 in labels with no predicted samples. Use `zero_division` parameter to control this behavior.\n",
      "  _warn_prf(average, modifier, f\"{metric.capitalize()} is\", len(result))\n"
     ]
    }
   ],
   "source": [
    "def generate_true_lookalike_data(customer_id):\n",
    "    # Now we can assume 50% of the recommended customers are true.\n",
    "    return random.choice([0, 1])\n",
    "\n",
    "# Generating Ground Truth \n",
    "y_true = []\n",
    "y_pred = []\n",
    "for cust in top_k_customers:\n",
    "    for lookalike, score in lookalike_results[cust]:\n",
    "        y_true.append(generate_true_lookalike_data(lookalike)) \n",
    "        y_pred.append(1 if score > 0.7 else 0)\n",
    "\n",
    "# Generate a classification report\n",
    "print(\"Classification Report:\\n\")\n",
    "print(classification_report(y_true, y_pred, target_names=[\"Not Lookalike\", \"Lookalike\"]))\n",
    "\n"
   ]
  },
  {
   "cell_type": "markdown",
   "metadata": {},
   "source": [
    "### Jaccard Similarity"
   ]
  },
  {
   "cell_type": "code",
   "execution_count": 38,
   "metadata": {},
   "outputs": [
    {
     "name": "stdout",
     "output_type": "stream",
     "text": [
      "Average Diversity of Recommendations (Jaccard Similarity): 0.01\n"
     ]
    }
   ],
   "source": [
    "def jaccard_similarity(set1, set2):\n",
    "    intersection = len(set1.intersection(set2))\n",
    "    union = len(set1.union(set2))\n",
    "    return intersection / union if union != 0 else 0\n",
    "\n",
    "# Calculate the diversity between the first 20 customers\n",
    "diversity_scores = []\n",
    "for i, cust1 in enumerate(top_k_customers):\n",
    "    for j, cust2 in enumerate(top_k_customers[i+1:], i+1):\n",
    "        set1 = set([lookalike[0] for lookalike in lookalike_results[cust1]])\n",
    "        set2 = set([lookalike[0] for lookalike in lookalike_results[cust2]])\n",
    "        diversity_scores.append(jaccard_similarity(set1, set2))\n",
    "\n",
    "# Average diversity score\n",
    "avg_diversity = np.mean(diversity_scores) if diversity_scores else None\n",
    "print(f'Average Diversity of Recommendations (Jaccard Similarity): {avg_diversity:.2f}')\n"
   ]
  }
 ],
 "metadata": {
  "kernelspec": {
   "display_name": "Python 3",
   "language": "python",
   "name": "python3"
  },
  "language_info": {
   "codemirror_mode": {
    "name": "ipython",
    "version": 3
   },
   "file_extension": ".py",
   "mimetype": "text/x-python",
   "name": "python",
   "nbconvert_exporter": "python",
   "pygments_lexer": "ipython3",
   "version": "3.11.2"
  }
 },
 "nbformat": 4,
 "nbformat_minor": 2
}
